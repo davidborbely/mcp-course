{
 "cells": [
  {
   "cell_type": "code",
   "execution_count": 1,
   "metadata": {},
   "outputs": [
    {
     "name": "stdout",
     "output_type": "stream",
     "text": [
      "We are up and running!\n"
     ]
    }
   ],
   "source": [
    "# Import necessary libraries\n",
    "import os\n",
    "from typing import Any, Dict\n",
    "\n",
    "import google.generativeai as genai\n",
    "import requests\n",
    "from dotenv import load_dotenv\n",
    "\n",
    "print(\"We are up and running!\")"
   ]
  },
  {
   "cell_type": "markdown",
   "metadata": {},
   "source": [
    "Ensure that you created a Gemini API Key and added it to the `.env` file before executing the next command"
   ]
  },
  {
   "cell_type": "code",
   "execution_count": 2,
   "metadata": {},
   "outputs": [
    {
     "name": "stdout",
     "output_type": "stream",
     "text": [
      "Gemini model loaded successfully: models/gemini-2.0-flash\n"
     ]
    }
   ],
   "source": [
    "# Load environment variables\n",
    "load_dotenv()\n",
    "api_key = os.getenv(\"GEMINI_API_KEY\")\n",
    "if not api_key or api_key.startswith(\"ADD YOUR\"):\n",
    "    raise ValueError(\"GEMINI_API_KEY not found in .env file\")\n",
    "\n",
    "# Configure Gemini\n",
    "genai.configure(api_key=api_key)\n",
    "model = genai.GenerativeModel(\"gemini-2.0-flash\")\n",
    "\n",
    "print(f\"Gemini model loaded successfully: {model.model_name}\")"
   ]
  },
  {
   "cell_type": "code",
   "execution_count": 3,
   "metadata": {},
   "outputs": [
    {
     "name": "stdout",
     "output_type": "stream",
     "text": [
      "Unfortunately, I cannot give you the exact, real-time price of Bitcoin right now. The price of Bitcoin fluctuates very rapidly, and any information I provide at this instant might be outdated within seconds.\n",
      "\n",
      "However, here's how you can find the current price:\n",
      "\n",
      "*   **Use a Cryptocurrency Exchange:** Popular exchanges like Coinbase, Binance, Kraken, Gemini, and others will display the current price.\n",
      "*   **Use a Financial Website:** Many financial websites like Google Finance, Yahoo Finance, Bloomberg, and MarketWatch have cryptocurrency sections that track Bitcoin's price.\n",
      "*   **Use a Cryptocurrency Tracker App:** There are many apps specifically designed to track the prices of cryptocurrencies. Some popular ones include CoinGecko, CoinMarketCap, and Blockfolio.\n",
      "\n",
      "When you check, be sure to note the exchange or source the price is coming from, as there can sometimes be slight differences between them.\n"
     ]
    }
   ],
   "source": [
    "PROMPT = \"What is the current price of Bitcoin?\"\n",
    "chat = model.start_chat()\n",
    "response = chat.send_message(PROMPT)\n",
    "print(response.text)"
   ]
  },
  {
   "cell_type": "code",
   "execution_count": 4,
   "metadata": {},
   "outputs": [
    {
     "name": "stdout",
     "output_type": "stream",
     "text": [
      "response:\n",
      "GenerateContentResponse(\n",
      "    done=True,\n",
      "    iterator=None,\n",
      "    result=protos.GenerateContentResponse({\n",
      "      \"candidates\": [\n",
      "        {\n",
      "          \"content\": {\n",
      "            \"parts\": [\n",
      "              {\n",
      "                \"text\": \"Unfortunately, I cannot give you the exact, real-time price of Bitcoin right now. The price of Bitcoin fluctuates very rapidly, and any information I provide at this instant might be outdated within seconds.\\n\\nHowever, here's how you can find the current price:\\n\\n*   **Use a Cryptocurrency Exchange:** Popular exchanges like Coinbase, Binance, Kraken, Gemini, and others will display the current price.\\n*   **Use a Financial Website:** Many financial websites like Google Finance, Yahoo Finance, Bloomberg, and MarketWatch have cryptocurrency sections that track Bitcoin's price.\\n*   **Use a Cryptocurrency Tracker App:** There are many apps specifically designed to track the prices of cryptocurrencies. Some popular ones include CoinGecko, CoinMarketCap, and Blockfolio.\\n\\nWhen you check, be sure to note the exchange or source the price is coming from, as there can sometimes be slight differences between them.\"\n",
      "              }\n",
      "            ],\n",
      "            \"role\": \"model\"\n",
      "          },\n",
      "          \"finish_reason\": \"STOP\",\n",
      "          \"avg_logprobs\": -0.20114383182010134\n",
      "        }\n",
      "      ],\n",
      "      \"usage_metadata\": {\n",
      "        \"prompt_token_count\": 8,\n",
      "        \"candidates_token_count\": 185,\n",
      "        \"total_token_count\": 193\n",
      "      },\n",
      "      \"model_version\": \"gemini-2.0-flash\"\n",
      "    }),\n",
      ")\n"
     ]
    }
   ],
   "source": [
    "print(response)"
   ]
  },
  {
   "cell_type": "code",
   "execution_count": 5,
   "metadata": {},
   "outputs": [
    {
     "name": "stdout",
     "output_type": "stream",
     "text": [
      "{'symbol': 'BTCUSDT', 'price': '102040.33000000'}\n"
     ]
    }
   ],
   "source": [
    "url = f\"https://api.binance.com/api/v3/ticker/price?symbol=BTCUSDT\"\n",
    "response = requests.get(url)\n",
    "data = response.json()\n",
    "print(data)"
   ]
  },
  {
   "cell_type": "code",
   "execution_count": 6,
   "metadata": {},
   "outputs": [],
   "source": [
    "\n",
    "# Define the function\n",
    "def get_crypto_price(symbol: str) -> Dict[str, Any]:\n",
    "    \"\"\"\n",
    "    Get the current price of a cryptocurrency from Binance API\n",
    "    \"\"\"\n",
    "    url = f\"https://api.binance.com/api/v3/ticker/price?symbol={symbol}\"\n",
    "    response = requests.get(url)\n",
    "    data = response.json()\n",
    "    return float(data[\"price\"])\n"
   ]
  },
  {
   "cell_type": "code",
   "execution_count": 7,
   "metadata": {},
   "outputs": [
    {
     "name": "stdout",
     "output_type": "stream",
     "text": [
      "BTC Price in USDT: 101985.93\n"
     ]
    }
   ],
   "source": [
    "price = get_crypto_price(\"BTCUSDT\")\n",
    "print(f\"BTC Price in USDT: {price}\")"
   ]
  },
  {
   "cell_type": "code",
   "execution_count": 9,
   "metadata": {},
   "outputs": [],
   "source": [
    "tools = [\n",
    "    {\n",
    "        \"function_declarations\": [\n",
    "            {\n",
    "                \"name\": \"get_crypto_price\",\n",
    "                \"description\": \"Get cryptocurrency price in USDT from Binance\",\n",
    "                \"parameters\": {\n",
    "                    \"type\": \"object\", \n",
    "                    \"properties\": {\n",
    "                        \"symbol\": {\n",
    "                            \"type\": \"string\",\n",
    "                            \"description\": \"The cryptocurrency trading pair symbol (e.g., BTCUSDT, ETHUSDT). \\\n",
    "                                            The symbol for Bitcoin is BTCUSDT. \\\n",
    "                                            The symbol for Ethereum is ETHUSDT.\"\n",
    "                        }\n",
    "                    },\n",
    "                    \"required\": [\"symbol\"]\n",
    "                }\n",
    "            }\n",
    "        ]\n",
    "    }\n",
    "]"
   ]
  },
  {
   "cell_type": "code",
   "execution_count": 10,
   "metadata": {},
   "outputs": [
    {
     "name": "stdout",
     "output_type": "stream",
     "text": [
      "response:\n",
      "GenerateContentResponse(\n",
      "    done=True,\n",
      "    iterator=None,\n",
      "    result=protos.GenerateContentResponse({\n",
      "      \"candidates\": [\n",
      "        {\n",
      "          \"content\": {\n",
      "            \"parts\": [\n",
      "              {\n",
      "                \"function_call\": {\n",
      "                  \"name\": \"get_crypto_price\",\n",
      "                  \"args\": {\n",
      "                    \"symbol\": \"BTCUSDT\"\n",
      "                  }\n",
      "                }\n",
      "              }\n",
      "            ],\n",
      "            \"role\": \"model\"\n",
      "          },\n",
      "          \"finish_reason\": \"STOP\",\n",
      "          \"avg_logprobs\": -0.10051312297582626\n",
      "        }\n",
      "      ],\n",
      "      \"usage_metadata\": {\n",
      "        \"prompt_token_count\": 60,\n",
      "        \"candidates_token_count\": 8,\n",
      "        \"total_token_count\": 68\n",
      "      },\n",
      "      \"model_version\": \"gemini-2.0-flash\"\n",
      "    }),\n",
      ")\n"
     ]
    }
   ],
   "source": [
    "PROMPT = \"What is the current price of Bitcoin?\"\n",
    "chat = model.start_chat()\n",
    "response = chat.send_message(PROMPT, tools=tools)\n",
    "print(response)\n"
   ]
  },
  {
   "cell_type": "code",
   "execution_count": 10,
   "metadata": {},
   "outputs": [],
   "source": [
    "price = get_crypto_price(\"BTCUSDT\")"
   ]
  },
  {
   "cell_type": "code",
   "execution_count": 13,
   "metadata": {},
   "outputs": [
    {
     "name": "stdout",
     "output_type": "stream",
     "text": [
      "response:\n",
      "GenerateContentResponse(\n",
      "    done=True,\n",
      "    iterator=None,\n",
      "    result=protos.GenerateContentResponse({\n",
      "      \"candidates\": [\n",
      "        {\n",
      "          \"content\": {\n",
      "            \"parts\": [\n",
      "              {\n",
      "                \"text\": \"Okay, thanks for confirming! The current price of Bitcoin (BTC) is $84,383.49.\\n\"\n",
      "              }\n",
      "            ],\n",
      "            \"role\": \"model\"\n",
      "          },\n",
      "          \"finish_reason\": \"STOP\",\n",
      "          \"avg_logprobs\": -0.0727455836755258\n",
      "        }\n",
      "      ],\n",
      "      \"usage_metadata\": {\n",
      "        \"prompt_token_count\": 55,\n",
      "        \"candidates_token_count\": 27,\n",
      "        \"total_token_count\": 82\n",
      "      },\n",
      "      \"model_version\": \"gemini-2.0-flash\"\n",
      "    }),\n",
      ")\n"
     ]
    }
   ],
   "source": [
    "final_response = chat.send_message(str(price))\n",
    "print(final_response)"
   ]
  },
  {
   "cell_type": "code",
   "execution_count": 14,
   "metadata": {},
   "outputs": [
    {
     "name": "stdout",
     "output_type": "stream",
     "text": [
      "Okay, thanks for confirming! The current price of Bitcoin (BTC) is $84,383.49.\n",
      "\n"
     ]
    }
   ],
   "source": [
    "print(final_response.text)"
   ]
  },
  {
   "cell_type": "markdown",
   "metadata": {},
   "source": [
    "Tool use"
   ]
  },
  {
   "cell_type": "markdown",
   "metadata": {},
   "source": []
  }
 ],
 "metadata": {
  "kernelspec": {
   "display_name": ".venv",
   "language": "python",
   "name": "python3"
  },
  "language_info": {
   "codemirror_mode": {
    "name": "ipython",
    "version": 3
   },
   "file_extension": ".py",
   "mimetype": "text/x-python",
   "name": "python",
   "nbconvert_exporter": "python",
   "pygments_lexer": "ipython3",
   "version": "3.10.11"
  }
 },
 "nbformat": 4,
 "nbformat_minor": 2
}
