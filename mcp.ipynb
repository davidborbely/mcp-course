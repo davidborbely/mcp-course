{
 "cells": [
  {
   "cell_type": "markdown",
   "metadata": {},
   "source": [
    "Tools"
   ]
  },
  {
   "cell_type": "code",
   "execution_count": null,
   "metadata": {},
   "outputs": [],
   "source": [
    "from fastmcp import FastMCP\n",
    "import subprocess\n",
    "\n",
    "mcp = FastMCP()"
   ]
  },
  {
   "cell_type": "code",
   "execution_count": 2,
   "metadata": {},
   "outputs": [],
   "source": [
    "@mcp.tool()\n",
    "def run_command(command: str) -> str:\n",
    "    \"\"\"\n",
    "    Execute a shell command and return its output\n",
    "\n",
    "    Args:\n",
    "        command (str): The shell command to execute\n",
    "    \n",
    "    Returns:\n",
    "        str: The command's output\n",
    "    \"\"\"\n",
    "    result = subprocess.run(command)\n",
    "    return result.stdout"
   ]
  },
  {
   "cell_type": "markdown",
   "metadata": {},
   "source": [
    "# Resources\n",
    "Can specify in a resource definition what files and resources you want to make available to the LLM"
   ]
  },
  {
   "cell_type": "markdown",
   "metadata": {},
   "source": [
    "# Prompts\n",
    "We might have some prompts that we like a lot.\n",
    "E.g. specific prompt we use for code review -- can create a \"code review MCP\" based on that"
   ]
  },
  {
   "cell_type": "markdown",
   "metadata": {},
   "source": []
  }
 ],
 "metadata": {
  "kernelspec": {
   "display_name": ".venv",
   "language": "python",
   "name": "python3"
  },
  "language_info": {
   "codemirror_mode": {
    "name": "ipython",
    "version": 3
   },
   "file_extension": ".py",
   "mimetype": "text/x-python",
   "name": "python",
   "nbconvert_exporter": "python",
   "pygments_lexer": "ipython3",
   "version": "3.10.11"
  }
 },
 "nbformat": 4,
 "nbformat_minor": 2
}
